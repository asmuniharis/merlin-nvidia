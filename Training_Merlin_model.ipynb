{
 "cells": [
  {
   "cell_type": "code",
   "execution_count": 1,
   "id": "03745aca-837f-4f8d-beac-868bcf51acd7",
   "metadata": {
    "tags": []
   },
   "outputs": [
    {
     "name": "stderr",
     "output_type": "stream",
     "text": [
      "2024-06-18 06:09:19.226943: W tensorflow/compiler/tf2tensorrt/utils/py_utils.cc:38] TF-TRT Warning: Could not find TensorRT\n",
      "/home/studio-lab-user/.conda/envs/merlin_env/lib/python3.8/site-packages/merlin/dtypes/mappings/triton.py:53: UserWarning: Triton dtype mappings did not load successfully due to an error: No module named 'tritonclient'\n",
      "  warn(f\"Triton dtype mappings did not load successfully due to an error: {exc.msg}\")\n"
     ]
    },
    {
     "name": "stdout",
     "output_type": "stream",
     "text": [
      "WARNING:tensorflow:Please fix your imports. Module tensorflow.python.training.tracking.data_structures has been moved to tensorflow.python.trackable.data_structures. The old module will be deleted in version 2.11.\n"
     ]
    }
   ],
   "source": [
    "import os\n",
    "import merlin.models.tf as mm\n",
    "import torch"
   ]
  },
  {
   "cell_type": "code",
   "execution_count": 2,
   "id": "87c2f47e-9389-427d-9d2a-649d2f7b9a6b",
   "metadata": {
    "tags": []
   },
   "outputs": [],
   "source": [
    "from os import path\n",
    "\n",
    "# Get dataframe library - cudf or pandas\n",
    "from merlin.core.dispatch import get_lib\n",
    "df_lib = get_lib()"
   ]
  },
  {
   "cell_type": "code",
   "execution_count": 3,
   "id": "e558ef7b-717b-4316-9d50-980925e9e83b",
   "metadata": {
    "tags": []
   },
   "outputs": [],
   "source": [
    "import merlin.io"
   ]
  },
  {
   "cell_type": "code",
   "execution_count": 4,
   "id": "5f69f6ac-e011-480d-b28a-b754a914930d",
   "metadata": {
    "tags": []
   },
   "outputs": [],
   "source": [
    "from nvtabular import ops\n",
    "import nvtabular as nvt\n",
    "from merlin.models.utils.example_utils import workflow_fit_transform\n",
    "import pandas as pd\n",
    "from merlin.schema.tags import Tags"
   ]
  },
  {
   "cell_type": "code",
   "execution_count": 5,
   "id": "b511b7f7-1583-42b4-abf1-b87d717292ba",
   "metadata": {
    "tags": []
   },
   "outputs": [],
   "source": [
    "INPUT_DATA_DIR = \"book_dataset/\""
   ]
  },
  {
   "cell_type": "code",
   "execution_count": 6,
   "id": "8b2e03bd-f2d8-41c3-9a83-2e9b2f6cef44",
   "metadata": {
    "tags": []
   },
   "outputs": [
    {
     "data": {
      "text/plain": [
       "(['book_dataset/train/part_0.parquet'], ['book_dataset/valid/part_0.parquet'])"
      ]
     },
     "execution_count": 6,
     "metadata": {},
     "output_type": "execute_result"
    }
   ],
   "source": [
    "import glob\n",
    "\n",
    "TRAIN_PATHS = sorted(glob.glob(os.path.join(INPUT_DATA_DIR, \"train\", \"*.parquet\")))\n",
    "VALID_PATHS = sorted(glob.glob(os.path.join(INPUT_DATA_DIR, \"valid\", \"*.parquet\")))\n",
    "TRAIN_PATHS, VALID_PATHS"
   ]
  },
  {
   "cell_type": "code",
   "execution_count": 7,
   "id": "510aafa0-80ee-4a43-9fd3-d6f30a9c40dc",
   "metadata": {
    "tags": []
   },
   "outputs": [
    {
     "data": {
      "text/html": [
       "<div>\n",
       "<style scoped>\n",
       "    .dataframe tbody tr th:only-of-type {\n",
       "        vertical-align: middle;\n",
       "    }\n",
       "\n",
       "    .dataframe tbody tr th {\n",
       "        vertical-align: top;\n",
       "    }\n",
       "\n",
       "    .dataframe thead th {\n",
       "        text-align: right;\n",
       "    }\n",
       "</style>\n",
       "<table border=\"1\" class=\"dataframe\">\n",
       "  <thead>\n",
       "    <tr style=\"text-align: right;\">\n",
       "      <th></th>\n",
       "      <th>User-ID</th>\n",
       "      <th>ISBN</th>\n",
       "      <th>Book-Title</th>\n",
       "      <th>Book-Rating</th>\n",
       "    </tr>\n",
       "  </thead>\n",
       "  <tbody>\n",
       "    <tr>\n",
       "      <th>0</th>\n",
       "      <td>36647</td>\n",
       "      <td>3</td>\n",
       "      <td>3</td>\n",
       "      <td>0.0</td>\n",
       "    </tr>\n",
       "    <tr>\n",
       "      <th>1</th>\n",
       "      <td>86289</td>\n",
       "      <td>3952</td>\n",
       "      <td>1</td>\n",
       "      <td>0.0</td>\n",
       "    </tr>\n",
       "    <tr>\n",
       "      <th>2</th>\n",
       "      <td>1663</td>\n",
       "      <td>13121</td>\n",
       "      <td>9234</td>\n",
       "      <td>1.0</td>\n",
       "    </tr>\n",
       "    <tr>\n",
       "      <th>3</th>\n",
       "      <td>334</td>\n",
       "      <td>1896</td>\n",
       "      <td>2146</td>\n",
       "      <td>0.0</td>\n",
       "    </tr>\n",
       "    <tr>\n",
       "      <th>4</th>\n",
       "      <td>5439</td>\n",
       "      <td>15669</td>\n",
       "      <td>14720</td>\n",
       "      <td>0.0</td>\n",
       "    </tr>\n",
       "  </tbody>\n",
       "</table>\n",
       "</div>"
      ],
      "text/plain": [
       "   User-ID   ISBN  Book-Title  Book-Rating\n",
       "0    36647      3           3          0.0\n",
       "1    86289   3952           1          0.0\n",
       "2     1663  13121        9234          1.0\n",
       "3      334   1896        2146          0.0\n",
       "4     5439  15669       14720          0.0"
      ]
     },
     "execution_count": 7,
     "metadata": {},
     "output_type": "execute_result"
    }
   ],
   "source": [
    "train = df_lib.read_parquet(TRAIN_PATHS[0])\n",
    "train.head()"
   ]
  },
  {
   "cell_type": "code",
   "execution_count": 8,
   "id": "9f362743-3d30-4108-ba43-fa53583d411f",
   "metadata": {
    "tags": []
   },
   "outputs": [
    {
     "data": {
      "text/html": [
       "<div>\n",
       "<style scoped>\n",
       "    .dataframe tbody tr th:only-of-type {\n",
       "        vertical-align: middle;\n",
       "    }\n",
       "\n",
       "    .dataframe tbody tr th {\n",
       "        vertical-align: top;\n",
       "    }\n",
       "\n",
       "    .dataframe thead th {\n",
       "        text-align: right;\n",
       "    }\n",
       "</style>\n",
       "<table border=\"1\" class=\"dataframe\">\n",
       "  <thead>\n",
       "    <tr style=\"text-align: right;\">\n",
       "      <th></th>\n",
       "      <th>User-ID</th>\n",
       "      <th>ISBN</th>\n",
       "      <th>Book-Title</th>\n",
       "      <th>Book-Rating</th>\n",
       "    </tr>\n",
       "  </thead>\n",
       "  <tbody>\n",
       "    <tr>\n",
       "      <th>0</th>\n",
       "      <td>51664</td>\n",
       "      <td>1437</td>\n",
       "      <td>1284</td>\n",
       "      <td>0.0</td>\n",
       "    </tr>\n",
       "    <tr>\n",
       "      <th>1</th>\n",
       "      <td>29302</td>\n",
       "      <td>2</td>\n",
       "      <td>1</td>\n",
       "      <td>1.0</td>\n",
       "    </tr>\n",
       "    <tr>\n",
       "      <th>2</th>\n",
       "      <td>31</td>\n",
       "      <td>17657</td>\n",
       "      <td>15595</td>\n",
       "      <td>0.0</td>\n",
       "    </tr>\n",
       "    <tr>\n",
       "      <th>3</th>\n",
       "      <td>283</td>\n",
       "      <td>107357</td>\n",
       "      <td>83246</td>\n",
       "      <td>1.0</td>\n",
       "    </tr>\n",
       "    <tr>\n",
       "      <th>4</th>\n",
       "      <td>591</td>\n",
       "      <td>3168</td>\n",
       "      <td>1046</td>\n",
       "      <td>0.0</td>\n",
       "    </tr>\n",
       "  </tbody>\n",
       "</table>\n",
       "</div>"
      ],
      "text/plain": [
       "   User-ID    ISBN  Book-Title  Book-Rating\n",
       "0    51664    1437        1284          0.0\n",
       "1    29302       2           1          1.0\n",
       "2       31   17657       15595          0.0\n",
       "3      283  107357       83246          1.0\n",
       "4      591    3168        1046          0.0"
      ]
     },
     "execution_count": 8,
     "metadata": {},
     "output_type": "execute_result"
    }
   ],
   "source": [
    "valid = df_lib.read_parquet(VALID_PATHS[0])\n",
    "valid.head()"
   ]
  },
  {
   "cell_type": "code",
   "execution_count": 9,
   "id": "bd53c439-6080-447a-a5bd-a88d6eda8e66",
   "metadata": {
    "tags": []
   },
   "outputs": [],
   "source": [
    "cat_features = [\"User-ID\", \"ISBN\"] >> ops.Categorify(dtype=\"int32\", out_path=os.path.join(INPUT_DATA_DIR, \"categories\"))"
   ]
  },
  {
   "cell_type": "code",
   "execution_count": 10,
   "id": "8caa707f-472e-4a4d-ba6e-a9b60989823f",
   "metadata": {
    "tags": []
   },
   "outputs": [],
   "source": [
    "feats_userId = cat_features[\"User-ID\"] >> ops.TagAsUserID()\n",
    "feats_itemId = cat_features[\"ISBN\"] >> ops.TagAsItemID()\n",
    "feats_target = (\n",
    "    nvt.ColumnSelector([\"Book-Rating\"])\n",
    "    >> ops.LambdaOp(lambda col: (col > 6).astype(\"int32\"))\n",
    "    >> ops.AddTags([\"binary_classification\", \"target\"])\n",
    "    >> nvt.ops.Rename(name=\"rating_binary\")\n",
    ")\n",
    "output = feats_itemId + feats_userId + feats_target"
   ]
  },
  {
   "cell_type": "code",
   "execution_count": 11,
   "id": "ad676093-2787-48a7-95df-61361b819ee8",
   "metadata": {
    "tags": []
   },
   "outputs": [
    {
     "name": "stderr",
     "output_type": "stream",
     "text": [
      "/home/studio-lab-user/.conda/envs/merlin_env/lib/python3.8/site-packages/merlin/io/dataset.py:267: UserWarning: Initializing an NVTabular Dataset in CPU mode.This is an experimental feature with extremely limited support!\n",
      "  warnings.warn(\n",
      "/home/studio-lab-user/.conda/envs/merlin_env/lib/python3.8/site-packages/merlin/io/dataset.py:267: UserWarning: Initializing an NVTabular Dataset in CPU mode.This is an experimental feature with extremely limited support!\n",
      "  warnings.warn(\n",
      "/home/studio-lab-user/.conda/envs/merlin_env/lib/python3.8/site-packages/merlin/io/dataset.py:267: UserWarning: Initializing an NVTabular Dataset in CPU mode.This is an experimental feature with extremely limited support!\n",
      "  warnings.warn(\n",
      "/home/studio-lab-user/.conda/envs/merlin_env/lib/python3.8/site-packages/merlin/io/dataset.py:267: UserWarning: Initializing an NVTabular Dataset in CPU mode.This is an experimental feature with extremely limited support!\n",
      "  warnings.warn(\n",
      "/home/studio-lab-user/.conda/envs/merlin_env/lib/python3.8/site-packages/merlin/io/dataset.py:267: UserWarning: Initializing an NVTabular Dataset in CPU mode.This is an experimental feature with extremely limited support!\n",
      "  warnings.warn(\n"
     ]
    },
    {
     "name": "stdout",
     "output_type": "stream",
     "text": [
      "CPU times: user 7.74 s, sys: 915 ms, total: 8.65 s\n",
      "Wall time: 8.62 s\n"
     ]
    }
   ],
   "source": [
    "%%time\n",
    "\n",
    "train_path = os.path.join(INPUT_DATA_DIR, \"train.parquet\")\n",
    "valid_path = os.path.join(INPUT_DATA_DIR, \"valid.parquet\")\n",
    "output_path = os.path.join(INPUT_DATA_DIR, \"dataset_integration\")\n",
    "\n",
    "workflow_fit_transform(output, train_path, valid_path, output_path)"
   ]
  },
  {
   "cell_type": "markdown",
   "id": "40e29282-b83b-43aa-bba7-3ff5e9125b0f",
   "metadata": {},
   "source": [
    "Training a Recommender Model with Merlin Models"
   ]
  },
  {
   "cell_type": "code",
   "execution_count": 12,
   "id": "2d449602-1303-4c7a-baf5-75f421746e4e",
   "metadata": {
    "tags": []
   },
   "outputs": [
    {
     "name": "stderr",
     "output_type": "stream",
     "text": [
      "/home/studio-lab-user/.conda/envs/merlin_env/lib/python3.8/site-packages/merlin/io/dataset.py:267: UserWarning: Initializing an NVTabular Dataset in CPU mode.This is an experimental feature with extremely limited support!\n",
      "  warnings.warn(\n",
      "/home/studio-lab-user/.conda/envs/merlin_env/lib/python3.8/site-packages/merlin/io/dataset.py:267: UserWarning: Initializing an NVTabular Dataset in CPU mode.This is an experimental feature with extremely limited support!\n",
      "  warnings.warn(\n"
     ]
    }
   ],
   "source": [
    "train = merlin.io.Dataset(\n",
    "    os.path.join(INPUT_DATA_DIR + \"dataset_integration\", \"train\"), engine=\"parquet\"\n",
    ")\n",
    "valid = merlin.io.Dataset(\n",
    "    os.path.join(INPUT_DATA_DIR + \"dataset_integration\", \"valid\"), engine=\"parquet\"\n",
    ")"
   ]
  },
  {
   "cell_type": "code",
   "execution_count": 13,
   "id": "90b79424-dfc3-4488-b978-ffe43f05abe5",
   "metadata": {
    "tags": []
   },
   "outputs": [
    {
     "data": {
      "text/html": [
       "<div>\n",
       "<style scoped>\n",
       "    .dataframe tbody tr th:only-of-type {\n",
       "        vertical-align: middle;\n",
       "    }\n",
       "\n",
       "    .dataframe tbody tr th {\n",
       "        vertical-align: top;\n",
       "    }\n",
       "\n",
       "    .dataframe thead th {\n",
       "        text-align: right;\n",
       "    }\n",
       "</style>\n",
       "<table border=\"1\" class=\"dataframe\">\n",
       "  <thead>\n",
       "    <tr style=\"text-align: right;\">\n",
       "      <th></th>\n",
       "      <th>ISBN</th>\n",
       "      <th>User-ID</th>\n",
       "      <th>rating_binary</th>\n",
       "    </tr>\n",
       "  </thead>\n",
       "  <tbody>\n",
       "    <tr>\n",
       "      <th>0</th>\n",
       "      <td>1437</td>\n",
       "      <td>51664</td>\n",
       "      <td>0</td>\n",
       "    </tr>\n",
       "    <tr>\n",
       "      <th>1</th>\n",
       "      <td>2</td>\n",
       "      <td>29302</td>\n",
       "      <td>1</td>\n",
       "    </tr>\n",
       "    <tr>\n",
       "      <th>2</th>\n",
       "      <td>17657</td>\n",
       "      <td>31</td>\n",
       "      <td>0</td>\n",
       "    </tr>\n",
       "    <tr>\n",
       "      <th>3</th>\n",
       "      <td>107357</td>\n",
       "      <td>283</td>\n",
       "      <td>1</td>\n",
       "    </tr>\n",
       "    <tr>\n",
       "      <th>4</th>\n",
       "      <td>3168</td>\n",
       "      <td>591</td>\n",
       "      <td>0</td>\n",
       "    </tr>\n",
       "  </tbody>\n",
       "</table>\n",
       "</div>"
      ],
      "text/plain": [
       "     ISBN  User-ID  rating_binary\n",
       "0    1437    51664              0\n",
       "1       2    29302              1\n",
       "2   17657       31              0\n",
       "3  107357      283              1\n",
       "4    3168      591              0"
      ]
     },
     "execution_count": 13,
     "metadata": {},
     "output_type": "execute_result"
    }
   ],
   "source": [
    "valid.head()"
   ]
  },
  {
   "cell_type": "code",
   "execution_count": 14,
   "id": "1c590f06-7cbb-4456-af97-6188a28f4608",
   "metadata": {
    "tags": []
   },
   "outputs": [
    {
     "data": {
      "text/plain": [
       "['ISBN', 'User-ID', 'rating_binary']"
      ]
     },
     "execution_count": 14,
     "metadata": {},
     "output_type": "execute_result"
    }
   ],
   "source": [
    "train.schema.column_names"
   ]
  },
  {
   "cell_type": "code",
   "execution_count": 15,
   "id": "6e92e200-cfa5-433f-b686-7272e05c0068",
   "metadata": {
    "tags": []
   },
   "outputs": [
    {
     "data": {
      "text/html": [
       "<div>\n",
       "<style scoped>\n",
       "    .dataframe tbody tr th:only-of-type {\n",
       "        vertical-align: middle;\n",
       "    }\n",
       "\n",
       "    .dataframe tbody tr th {\n",
       "        vertical-align: top;\n",
       "    }\n",
       "\n",
       "    .dataframe thead th {\n",
       "        text-align: right;\n",
       "    }\n",
       "</style>\n",
       "<table border=\"1\" class=\"dataframe\">\n",
       "  <thead>\n",
       "    <tr style=\"text-align: right;\">\n",
       "      <th></th>\n",
       "      <th>name</th>\n",
       "      <th>tags</th>\n",
       "      <th>dtype</th>\n",
       "      <th>is_list</th>\n",
       "      <th>is_ragged</th>\n",
       "      <th>properties.num_buckets</th>\n",
       "      <th>properties.cat_path</th>\n",
       "      <th>properties.embedding_sizes.dimension</th>\n",
       "      <th>properties.embedding_sizes.cardinality</th>\n",
       "      <th>properties.max_size</th>\n",
       "      <th>properties.freq_threshold</th>\n",
       "      <th>properties.domain.min</th>\n",
       "      <th>properties.domain.max</th>\n",
       "      <th>properties.domain.name</th>\n",
       "    </tr>\n",
       "  </thead>\n",
       "  <tbody>\n",
       "    <tr>\n",
       "      <th>0</th>\n",
       "      <td>ISBN</td>\n",
       "      <td>(Tags.ID, Tags.ITEM, Tags.CATEGORICAL)</td>\n",
       "      <td>DType(name='int32', element_type=&lt;ElementType....</td>\n",
       "      <td>False</td>\n",
       "      <td>False</td>\n",
       "      <td>NaN</td>\n",
       "      <td>book_dataset/categories/categories/unique.ISBN...</td>\n",
       "      <td>512.0</td>\n",
       "      <td>298687.0</td>\n",
       "      <td>0.0</td>\n",
       "      <td>0.0</td>\n",
       "      <td>0.0</td>\n",
       "      <td>298686.0</td>\n",
       "      <td>ISBN</td>\n",
       "    </tr>\n",
       "    <tr>\n",
       "      <th>1</th>\n",
       "      <td>User-ID</td>\n",
       "      <td>(Tags.ID, Tags.USER, Tags.CATEGORICAL)</td>\n",
       "      <td>DType(name='int32', element_type=&lt;ElementType....</td>\n",
       "      <td>False</td>\n",
       "      <td>False</td>\n",
       "      <td>NaN</td>\n",
       "      <td>book_dataset/categories/categories/unique.User...</td>\n",
       "      <td>512.0</td>\n",
       "      <td>92969.0</td>\n",
       "      <td>0.0</td>\n",
       "      <td>0.0</td>\n",
       "      <td>0.0</td>\n",
       "      <td>92968.0</td>\n",
       "      <td>User-ID</td>\n",
       "    </tr>\n",
       "    <tr>\n",
       "      <th>2</th>\n",
       "      <td>rating_binary</td>\n",
       "      <td>(Tags.BINARY_CLASSIFICATION, Tags.TARGET)</td>\n",
       "      <td>DType(name='int32', element_type=&lt;ElementType....</td>\n",
       "      <td>False</td>\n",
       "      <td>False</td>\n",
       "      <td>NaN</td>\n",
       "      <td>NaN</td>\n",
       "      <td>NaN</td>\n",
       "      <td>NaN</td>\n",
       "      <td>NaN</td>\n",
       "      <td>NaN</td>\n",
       "      <td>NaN</td>\n",
       "      <td>NaN</td>\n",
       "      <td>NaN</td>\n",
       "    </tr>\n",
       "  </tbody>\n",
       "</table>\n",
       "</div>"
      ],
      "text/plain": [
       "[{'name': 'ISBN', 'tags': {<Tags.ID: 'id'>, <Tags.ITEM: 'item'>, <Tags.CATEGORICAL: 'categorical'>}, 'properties': {'num_buckets': None, 'cat_path': 'book_dataset/categories/categories/unique.ISBN.parquet', 'embedding_sizes': {'dimension': 512.0, 'cardinality': 298687.0}, 'max_size': 0.0, 'freq_threshold': 0.0, 'domain': {'min': 0, 'max': 298686, 'name': 'ISBN'}}, 'dtype': DType(name='int32', element_type=<ElementType.Int: 'int'>, element_size=32, element_unit=None, signed=True, shape=Shape(dims=(Dimension(min=0, max=None),))), 'is_list': False, 'is_ragged': False}, {'name': 'User-ID', 'tags': {<Tags.ID: 'id'>, <Tags.USER: 'user'>, <Tags.CATEGORICAL: 'categorical'>}, 'properties': {'cat_path': 'book_dataset/categories/categories/unique.User-ID.parquet', 'freq_threshold': 0.0, 'num_buckets': None, 'embedding_sizes': {'dimension': 512.0, 'cardinality': 92969.0}, 'max_size': 0.0, 'domain': {'min': 0, 'max': 92968, 'name': 'User-ID'}}, 'dtype': DType(name='int32', element_type=<ElementType.Int: 'int'>, element_size=32, element_unit=None, signed=True, shape=Shape(dims=(Dimension(min=0, max=None),))), 'is_list': False, 'is_ragged': False}, {'name': 'rating_binary', 'tags': {<Tags.BINARY_CLASSIFICATION: 'binary_classification'>, <Tags.TARGET: 'target'>}, 'properties': {}, 'dtype': DType(name='int32', element_type=<ElementType.Int: 'int'>, element_size=32, element_unit=None, signed=True, shape=Shape(dims=(Dimension(min=0, max=None),))), 'is_list': False, 'is_ragged': False}]"
      ]
     },
     "execution_count": 15,
     "metadata": {},
     "output_type": "execute_result"
    }
   ],
   "source": [
    "train.schema"
   ]
  },
  {
   "cell_type": "code",
   "execution_count": 18,
   "id": "7c21ab2e-aff4-4b0a-8fa6-29941be4d992",
   "metadata": {
    "tags": []
   },
   "outputs": [],
   "source": [
    "schema = train.schema\n",
    "train.schema = schema\n",
    "valid.schema = schema"
   ]
  },
  {
   "cell_type": "markdown",
   "id": "4516b6f1-b399-4022-8a99-979025125037",
   "metadata": {},
   "source": [
    "### Two Tower Model"
   ]
  },
  {
   "cell_type": "code",
   "execution_count": 17,
   "id": "199c5d5c-82c2-429a-a2d9-f2467bc2f215",
   "metadata": {
    "tags": []
   },
   "outputs": [],
   "source": [
    "model_tt = mm.TwoTowerModel(\n",
    "    schema,\n",
    "    query_tower=mm.MLPBlock([128, 64], no_activation_last_layer=True),\n",
    "    samplers=[mm.InBatchSampler()],\n",
    "    embedding_options=mm.EmbeddingOptions(infer_embedding_sizes=True),\n",
    ")"
   ]
  },
  {
   "cell_type": "code",
   "execution_count": null,
   "id": "b22e105f-5e0b-4159-9129-2705a9dec752",
   "metadata": {
    "tags": []
   },
   "outputs": [
    {
     "name": "stdout",
     "output_type": "stream",
     "text": [
      "Epoch 1/3\n",
      "WARNING:tensorflow:AutoGraph could not transform <bound method Socket.send of <zmq.Socket(zmq.PUSH) at 0x7ff2146320a0>> and will run it as-is.\n",
      "Please report this to the TensorFlow team. When filing the bug, set the verbosity to 10 (on Linux, `export AUTOGRAPH_VERBOSITY=10`) and attach the full output.\n",
      "Cause: module, class, method, function, traceback, frame, or code object was expected, got cython_function_or_method\n",
      "To silence this warning, decorate the function with @tf.autograph.experimental.do_not_convert\n",
      "WARNING: AutoGraph could not transform <bound method Socket.send of <zmq.Socket(zmq.PUSH) at 0x7ff2146320a0>> and will run it as-is.\n",
      "Please report this to the TensorFlow team. When filing the bug, set the verbosity to 10 (on Linux, `export AUTOGRAPH_VERBOSITY=10`) and attach the full output.\n",
      "Cause: module, class, method, function, traceback, frame, or code object was expected, got cython_function_or_method\n",
      "To silence this warning, decorate the function with @tf.autograph.experimental.do_not_convert\n"
     ]
    },
    {
     "name": "stderr",
     "output_type": "stream",
     "text": [
      "The sampler InBatchSampler returned no samples for this batch.\n"
     ]
    },
    {
     "name": "stdout",
     "output_type": "stream",
     "text": [
      "112/113 [============================>.] - ETA: 0s - loss: 9.0110 - recall_at_10: 0.0011 - ndcg_at_10: 5.0044e-04 - regularization_loss: 0.0000e+00 - loss_batch: 9.0110"
     ]
    },
    {
     "name": "stderr",
     "output_type": "stream",
     "text": [
      "The sampler InBatchSampler returned no samples for this batch.\n"
     ]
    },
    {
     "name": "stdout",
     "output_type": "stream",
     "text": [
      "113/113 [==============================] - 27s 160ms/step - loss: 9.0079 - recall_at_10: 0.0011 - ndcg_at_10: 5.0021e-04 - regularization_loss: 0.0000e+00 - loss_batch: 8.9889 - val_loss: 9.0043 - val_recall_at_10: 0.0011 - val_ndcg_at_10: 4.7960e-04 - val_regularization_loss: 0.0000e+00 - val_loss_batch: 6.3650\n",
      "Epoch 2/3\n",
      " 20/113 [====>.........................] - ETA: 11s - loss: 9.0078 - recall_at_10: 0.0033 - ndcg_at_10: 0.0015 - regularization_loss: 0.0000e+00 - loss_batch: 9.0078"
     ]
    }
   ],
   "source": [
    "%%time\n",
    "model_tt.compile(\n",
    "    optimizer=\"adam\",\n",
    "    run_eagerly=False,\n",
    "    loss=\"categorical_crossentropy\",\n",
    "    metrics=[mm.RecallAt(10), mm.NDCGAt(10)],\n",
    ")\n",
    "model_tt.fit(train, validation_data=valid, batch_size=1024 * 8, epochs=3)"
   ]
  },
  {
   "cell_type": "code",
   "execution_count": 25,
   "id": "022e6c3d-7fa3-4fd0-ad51-28d0b34a3d4c",
   "metadata": {
    "tags": []
   },
   "outputs": [
    {
     "name": "stderr",
     "output_type": "stream",
     "text": [
      "WARNING:absl:Function `_wrapped_model` contains input name(s) User-ID with unsupported characters which will be renamed to user_id in the SavedModel.\n",
      "WARNING:absl:Found untraced functions such as model_context_layer_call_fn, model_context_layer_call_and_return_conditional_losses, prepare_list_features_layer_call_fn, prepare_list_features_layer_call_and_return_conditional_losses, parallel_block_1_layer_call_fn while saving (showing 5 of 24). These functions will not be directly callable after loading.\n"
     ]
    },
    {
     "name": "stdout",
     "output_type": "stream",
     "text": [
      "INFO:tensorflow:Assets written to: book_dataset/query_tower/assets\n"
     ]
    },
    {
     "name": "stderr",
     "output_type": "stream",
     "text": [
      "INFO:tensorflow:Assets written to: book_dataset/query_tower/assets\n"
     ]
    }
   ],
   "source": [
    "#Exporting query (user) model\n",
    "query_tower = model_tt.retrieval_block.query_block()\n",
    "query_tower.save(os.path.join(\"book_dataset\", \"query_tower\"))"
   ]
  },
  {
   "cell_type": "markdown",
   "id": "5b2a53a5-7c1c-4bae-bd5f-f729e98fbcda",
   "metadata": {},
   "source": [
    "### DLRM Model"
   ]
  },
  {
   "cell_type": "code",
   "execution_count": 26,
   "id": "5b783244-1dd8-4e1b-9f70-180d2195ab9b",
   "metadata": {
    "tags": []
   },
   "outputs": [
    {
     "name": "stdout",
     "output_type": "stream",
     "text": [
      "899/899 [==============================] - 18s 18ms/step - loss: 0.5969 - precision: 0.2697 - recall: 4.9789e-04 - binary_accuracy: 0.7159 - auc: 0.5158 - regularization_loss: 0.0000e+00 - loss_batch: 0.5969\n"
     ]
    },
    {
     "data": {
      "text/plain": [
       "<keras.callbacks.History at 0x7fedd44775e0>"
      ]
     },
     "execution_count": 26,
     "metadata": {},
     "output_type": "execute_result"
    }
   ],
   "source": [
    "model = mm.DLRMModel(\n",
    "    train.schema,\n",
    "    embedding_dim=64,\n",
    "    bottom_block=mm.MLPBlock([128, 64]),\n",
    "    top_block=mm.MLPBlock([128, 64, 32]),\n",
    "    prediction_tasks=mm.BinaryOutput(train.schema.select_by_tag(Tags.TARGET).column_names[0]),\n",
    ")\n",
    "\n",
    "model.compile(optimizer=\"adam\")\n",
    "model.fit(train, batch_size=1024)"
   ]
  },
  {
   "cell_type": "code",
   "execution_count": 27,
   "id": "13ede3cf-478b-4def-b1c5-27131ef7bab1",
   "metadata": {
    "tags": []
   },
   "outputs": [
    {
     "name": "stdout",
     "output_type": "stream",
     "text": [
      "225/225 [==============================] - 1s 4ms/step - loss: 0.5839 - precision: 0.0000e+00 - recall: 0.0000e+00 - binary_accuracy: 0.7163 - auc: 0.5652 - regularization_loss: 0.0000e+00 - loss_batch: 0.5841\n"
     ]
    }
   ],
   "source": [
    "metrics = model.evaluate(valid, batch_size=1024, return_dict=True)"
   ]
  },
  {
   "cell_type": "code",
   "execution_count": 28,
   "id": "acc5f311-cd11-4e31-bebe-ba75718eb25e",
   "metadata": {
    "tags": []
   },
   "outputs": [
    {
     "data": {
      "text/plain": [
       "{'loss': 0.5839466452598572,\n",
       " 'precision': 0.0,\n",
       " 'recall': 0.0,\n",
       " 'binary_accuracy': 0.7162761688232422,\n",
       " 'auc': 0.5652353167533875,\n",
       " 'regularization_loss': 0.0,\n",
       " 'loss_batch': 0.6062688231468201}"
      ]
     },
     "execution_count": 28,
     "metadata": {},
     "output_type": "execute_result"
    }
   ],
   "source": [
    "metrics"
   ]
  },
  {
   "cell_type": "code",
   "execution_count": null,
   "id": "f4140b44-4979-462b-872e-d4a649f7cfc0",
   "metadata": {},
   "outputs": [],
   "source": []
  }
 ],
 "metadata": {
  "kernelspec": {
   "display_name": ".conda-merlin_env:Python",
   "language": "python",
   "name": "conda-env-.conda-merlin_env-py"
  },
  "language_info": {
   "codemirror_mode": {
    "name": "ipython",
    "version": 3
   },
   "file_extension": ".py",
   "mimetype": "text/x-python",
   "name": "python",
   "nbconvert_exporter": "python",
   "pygments_lexer": "ipython3",
   "version": "3.8.0"
  }
 },
 "nbformat": 4,
 "nbformat_minor": 5
}
